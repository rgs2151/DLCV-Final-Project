{
 "cells": [
  {
   "cell_type": "code",
   "execution_count": 1,
   "metadata": {},
   "outputs": [],
   "source": [
    "from pandas import DataFrame, read_csv, get_dummies\n",
    "from pathlib import Path\n",
    "from numpy import array, random, argmax\n",
    "import pickle\n",
    "from tensorflow.keras.models import Sequential, load_model\n",
    "from tensorflow.keras.layers import LSTM, Dense\n",
    "from tensorflow.keras.callbacks import TensorBoard, Callback\n",
    "from tensorflow.keras.optimizers import Adam\n",
    "from tensorflow.python.keras.layers.core import Dropout\n",
    "import matplotlib.pyplot as plt\n",
    "from sklearn.datasets import make_classification\n",
    "from sklearn.metrics import plot_confusion_matrix, confusion_matrix, ConfusionMatrixDisplay\n",
    "from sklearn.model_selection import train_test_split\n",
    "from sklearn.svm import SVC\n",
    "from sklearn.preprocessing import OneHotEncoder"
   ]
  },
  {
   "cell_type": "code",
   "execution_count": 2,
   "metadata": {},
   "outputs": [
    {
     "name": "stderr",
     "output_type": "stream",
     "text": [
      "Using TensorFlow backend.\n"
     ]
    }
   ],
   "source": [
    "import numpy as np\n",
    "import keras\n",
    "\n",
    "class DataGenerator(keras.utils.Sequence):\n",
    "    #'Generates data for Keras'\n",
    "    def __init__(self, list_IDs, labels, batch_size=32, dim=(32,32,32), n_channels=1,\n",
    "                 n_classes=10, shuffle=True):\n",
    "        #'Initialization'\n",
    "        self.dim = dim\n",
    "        self.batch_size = batch_size\n",
    "        self.labels = labels\n",
    "        self.list_IDs = list_IDs\n",
    "        self.n_channels = n_channels\n",
    "        self.n_classes = n_classes\n",
    "        self.shuffle = shuffle\n",
    "        self.on_epoch_end()\n",
    "\n",
    "    def __len__(self):\n",
    "        #'Denotes the number of batches per epoch'\n",
    "        return int(np.floor(len(self.list_IDs) / self.batch_size))\n",
    "\n",
    "    def __getitem__(self, index):\n",
    "        #'Generate one batch of data'\n",
    "        # Generate indexes of the batch\n",
    "        indexes = self.indexes[index*self.batch_size:(index+1)*self.batch_size]\n",
    "\n",
    "        # Find list of IDs\n",
    "        list_IDs_temp = [self.list_IDs[k] for k in indexes]\n",
    "\n",
    "        # Generate data\n",
    "        X, y = self.__data_generation(list_IDs_temp)\n",
    "\n",
    "        return X, y\n",
    "\n",
    "    def on_epoch_end(self):\n",
    "        #'Updates indexes after each epoch'\n",
    "        self.indexes = np.arange(len(self.list_IDs))\n",
    "        if self.shuffle == True:\n",
    "            np.random.shuffle(self.indexes)\n",
    "\n",
    "    def __data_generation(self, list_IDs_temp):\n",
    "        #'Generates data containing batch_size samples' # X : (n_samples, *dim, n_channels)\n",
    "        # Initialization\n",
    "        X = np.empty((self.batch_size, *self.dim, self.n_channels))\n",
    "        y = np.empty((self.batch_size), dtype=int)\n",
    "\n",
    "        # Generate data\n",
    "        for i, ID in enumerate(list_IDs_temp):\n",
    "            # Store sample\n",
    "            X[i,] = np.load('data/' + ID + '.npy')\n",
    "\n",
    "            # Store class\n",
    "            y[i] = self.labels[ID]\n",
    "\n",
    "        return X, keras.utils.to_categorical(y, num_classes=self.n_classes)"
   ]
  },
  {
   "cell_type": "code",
   "execution_count": 3,
   "metadata": {},
   "outputs": [],
   "source": [
    "db = Path(\"Z:/jupyternotebook/ASL-main/ASL-main/newdata/augmented_csv\")\n",
    "selected_db = db \n",
    "model_out = Path('Model')\n",
    "model_name = model_out / 'ADB_9_95'\n",
    "y = []\n",
    "x = []\n",
    "f = []\n",
    "e = []"
   ]
  },
  {
   "cell_type": "code",
   "execution_count": null,
   "metadata": {},
   "outputs": [],
   "source": [
    "for klass in list(selected_db.glob('*')):\n",
    "    print(klass.name)\n",
    "    for csv in klass.glob('*'):\n",
    "        print(csv)\n",
    "        d = read_csv(str(csv), header=None ).values\n",
    "        if d.shape == (50,1629):\n",
    "             e.append(d)\n",
    "             y.append(klass.name)\n",
    "        else:\n",
    "             f.append(d)\n",
    "        print(d.shape)"
   ]
  },
  {
   "cell_type": "code",
   "execution_count": null,
   "metadata": {},
   "outputs": [],
   "source": [
    "with open('finalcsve.pkle','wb') as xyz:\n",
    "    pickle.dump(e,xyz)"
   ]
  },
  {
   "cell_type": "code",
   "execution_count": 4,
   "metadata": {},
   "outputs": [],
   "source": [
    "with open('finalcsvy.pkle','wb') as xyz:\n",
    "    pickle.dump(y,xyz)"
   ]
  },
  {
   "cell_type": "code",
   "execution_count": null,
   "metadata": {},
   "outputs": [],
   "source": [
    "with open('finalcsvf.pkle','wb') as xyz:\n",
    "    pickle.dump(f,xyz)"
   ]
  },
  {
   "cell_type": "code",
   "execution_count": 5,
   "metadata": {},
   "outputs": [
    {
     "data": {
      "text/plain": [
       "16737"
      ]
     },
     "execution_count": 5,
     "metadata": {},
     "output_type": "execute_result"
    }
   ],
   "source": [
    "# with open('finalcsve.pkle','rb') as xyz:\n",
    "#    e = pickle.load(xyz)\n",
    "with open(\"D:/ASL_DATASET/WIP final model/finalcsve.pkle\",'rb') as xyz:\n",
    "   e = pickle.load(xyz)\n",
    "with open('finalcsvy.pkle','rb') as xyz:\n",
    "   y = pickle.load(xyz)\n",
    "with open('finalcsvf.pkle','rb') as xyz:\n",
    "   f = pickle.load(xyz)\n",
    "len(e)\n",
    "len(f)\n",
    "len(y)"
   ]
  },
  {
   "cell_type": "code",
   "execution_count": 13,
   "metadata": {},
   "outputs": [],
   "source": [
    "with open(\"D:/ASL_DATASET/WIP final model/finalcsve.pkle\",'rb') as xyz:\n",
    "   e = pickle.load(xyz)"
   ]
  },
  {
   "cell_type": "code",
   "execution_count": null,
   "metadata": {},
   "outputs": [],
   "source": [
    "with open('Z:/jupyternotebook/ASL-main/ASL-main/finalcsvy.pkle','rb') as xyz:\n",
    "   y = pickle.load(xyz)\n",
    "print(y)"
   ]
  },
  {
   "cell_type": "code",
   "execution_count": 12,
   "metadata": {},
   "outputs": [
    {
     "name": "stdout",
     "output_type": "stream",
     "text": [
      "[[1 0 0 ... 0 0 0]\n",
      " [1 0 0 ... 0 0 0]\n",
      " [1 0 0 ... 0 0 0]\n",
      " ...\n",
      " [0 0 0 ... 0 1 0]\n",
      " [0 0 0 ... 0 1 0]\n",
      " [0 0 0 ... 0 1 0]]\n"
     ]
    }
   ],
   "source": [
    "y = get_dummies(DataFrame(y)).values\n",
    "print(y)"
   ]
  },
  {
   "cell_type": "code",
   "execution_count": 15,
   "metadata": {},
   "outputs": [
    {
     "name": "stdout",
     "output_type": "stream",
     "text": [
      "Data Shape Check (16737, 50, 1629) (16737, 8)\n"
     ]
    }
   ],
   "source": [
    "y = get_dummies(DataFrame(y)).values\n",
    "e = array(e)\n",
    "\n",
    "p = random.permutation(len(y))\n",
    "y = y[p]\n",
    "e = e[p]\n",
    "\n",
    "print('Data Shape Check', e.shape, y.shape)"
   ]
  },
  {
   "cell_type": "markdown",
   "metadata": {},
   "source": [
    "SPLITTING DATA"
   ]
  },
  {
   "cell_type": "code",
   "execution_count": null,
   "metadata": {},
   "outputs": [],
   "source": [
    "from sklearn.model_selection import train_test_split\n",
    "\n",
    "x_train, x_valid, y_train, y_valid = train_test_split(e, y, test_size=0.2, shuffle= True)\n",
    "\n",
    "print(f\"No. of training examples: {x_train.shape[0]}\")\n",
    "print(f\"No. of testing examples: {x_valid.shape[0]}\")"
   ]
  },
  {
   "cell_type": "code",
   "execution_count": 13,
   "metadata": {},
   "outputs": [],
   "source": [
    "with open('finalcsvx_train.pkle','wb') as xyz:\n",
    "    pickle.dump(x_train,xyz)\n",
    "with open('finalcsvx_valid.pkle','wb') as xyz:\n",
    "    pickle.dump(x_valid,xyz)\n",
    "with open('finalcsvy_train.pkle','wb') as xyz:\n",
    "    pickle.dump(y_train,xyz)\n",
    "with open('finalcsvy_valid.pkle','wb') as xyz:\n",
    "    pickle.dump(y_valid,xyz)"
   ]
  },
  {
   "cell_type": "code",
   "execution_count": 4,
   "metadata": {},
   "outputs": [],
   "source": [
    "with open('finalcsvy_train.pkle','rb') as xyz:\n",
    "    y_train = pickle.load(xyz)\n",
    "with open('finalcsvx_train.pkle','rb') as xyz:\n",
    "    x_train = pickle.load(xyz)\n",
    "with open('finalcsvy_valid.pkle','rb') as xyz:\n",
    "    y_valid = pickle.load(xyz)\n",
    "with open('finalcsvx_valid.pkle','rb') as xyz:\n",
    "    x_valid = pickle.load(xyz)"
   ]
  },
  {
   "cell_type": "code",
   "execution_count": 5,
   "metadata": {},
   "outputs": [
    {
     "name": "stdout",
     "output_type": "stream",
     "text": [
      "Model will stop training after reacing:  0.95\n"
     ]
    }
   ],
   "source": [
    "ACCURACY_THRESHOLD = 0.95\n",
    "print('Model will stop training after reacing: ', ACCURACY_THRESHOLD)\n",
    "class stop_(Callback): \n",
    "    def on_epoch_end(self, epoch, logs={}): \n",
    "        if(logs.get('accuracy') > ACCURACY_THRESHOLD):\n",
    "            print(\"\\nReached %2.2f%% accuracy, so stopping training!!\" %(ACCURACY_THRESHOLD*100))   \n",
    "            self.model.stop_training = True\n",
    "            \n",
    "stop_training = stop_()"
   ]
  },
  {
   "cell_type": "code",
   "execution_count": 6,
   "metadata": {},
   "outputs": [
    {
     "name": "stdout",
     "output_type": "stream",
     "text": [
      "Model: \"sequential\"\n",
      "_________________________________________________________________\n",
      "Layer (type)                 Output Shape              Param #   \n",
      "=================================================================\n",
      "lstm (LSTM)                  (None, 50, 64)            433664    \n",
      "_________________________________________________________________\n",
      "lstm_1 (LSTM)                (None, 50, 128)           98816     \n",
      "_________________________________________________________________\n",
      "lstm_2 (LSTM)                (None, 128)               131584    \n",
      "_________________________________________________________________\n",
      "dropout (Dropout)            (None, 128)               0         \n",
      "_________________________________________________________________\n",
      "dense (Dense)                (None, 64)                8256      \n",
      "_________________________________________________________________\n",
      "dropout_1 (Dropout)          (None, 64)                0         \n",
      "_________________________________________________________________\n",
      "dense_1 (Dense)              (None, 32)                2080      \n",
      "_________________________________________________________________\n",
      "dense_2 (Dense)              (None, 4)                 132       \n",
      "=================================================================\n",
      "Total params: 674,532\n",
      "Trainable params: 674,532\n",
      "Non-trainable params: 0\n",
      "_________________________________________________________________\n"
     ]
    }
   ],
   "source": [
    "model = Sequential()\n",
    "model.add(LSTM(64, return_sequences=True, activation='relu', input_shape=x_train.shape[1:]))\n",
    "model.add(LSTM(128, return_sequences=True, activation='relu'))\n",
    "model.add(LSTM(128, return_sequences=False, activation='relu'))\n",
    "model.add(Dropout(0.2))\n",
    "model.add(Dense(64, activation='relu'))\n",
    "model.add(Dropout(0.2))\n",
    "model.add(Dense(32, activation='relu'))\n",
    "model.add(Dense(y_train.shape[1], activation='softmax'))\n",
    "model.summary()"
   ]
  },
  {
   "cell_type": "code",
   "execution_count": 7,
   "metadata": {},
   "outputs": [],
   "source": [
    "a = Adam(learning_rate=0.00001)\n",
    "H = model.compile(optimizer=a, loss='categorical_crossentropy', metrics=['accuracy'])"
   ]
  },
  {
   "cell_type": "code",
   "execution_count": 8,
   "metadata": {},
   "outputs": [],
   "source": [
    "class_weight = {0: 1.,\n",
    "                1: 1.,\n",
    "                2: 1.,\n",
    "                3: 1.,\n",
    "               }"
   ]
  },
  {
   "cell_type": "code",
   "execution_count": 9,
   "metadata": {},
   "outputs": [
    {
     "name": "stdout",
     "output_type": "stream",
     "text": [
      "Epoch 1/1000\n",
      "210/210 [==============================] - 34s 152ms/step - loss: 1.3323 - accuracy: 0.2753 - val_loss: 1.1301 - val_accuracy: 0.5545\n",
      "Epoch 2/1000\n",
      "210/210 [==============================] - 28s 136ms/step - loss: 1.1436 - accuracy: 0.4565 - val_loss: 1.0629 - val_accuracy: 0.5914\n",
      "Epoch 3/1000\n",
      "210/210 [==============================] - 32s 150ms/step - loss: 1.0634 - accuracy: 0.5689 - val_loss: 1.0168 - val_accuracy: 0.5497\n",
      "Epoch 4/1000\n",
      "210/210 [==============================] - 33s 156ms/step - loss: 0.9491 - accuracy: 0.5977 - val_loss: 0.6702 - val_accuracy: 0.6980\n",
      "Epoch 5/1000\n",
      "210/210 [==============================] - 29s 138ms/step - loss: 0.7883 - accuracy: 0.6716 - val_loss: 0.4815 - val_accuracy: 0.8374\n",
      "Epoch 6/1000\n",
      "210/210 [==============================] - 28s 131ms/step - loss: 0.6182 - accuracy: 0.7612 - val_loss: 0.4398 - val_accuracy: 0.8749\n",
      "Epoch 7/1000\n",
      "210/210 [==============================] - 28s 131ms/step - loss: 0.5321 - accuracy: 0.8084 - val_loss: 0.3979 - val_accuracy: 0.8773\n",
      "Epoch 8/1000\n",
      "210/210 [==============================] - 27s 130ms/step - loss: 0.4505 - accuracy: 0.8440 - val_loss: 0.3155 - val_accuracy: 0.9035\n",
      "Epoch 9/1000\n",
      "210/210 [==============================] - 29s 139ms/step - loss: 0.4075 - accuracy: 0.8586 - val_loss: 0.2412 - val_accuracy: 0.9244\n",
      "Epoch 10/1000\n",
      "210/210 [==============================] - 27s 130ms/step - loss: 0.3474 - accuracy: 0.8869 - val_loss: 0.2203 - val_accuracy: 0.9339\n",
      "Epoch 11/1000\n",
      "210/210 [==============================] - 28s 132ms/step - loss: 0.3244 - accuracy: 0.8936 - val_loss: 0.2162 - val_accuracy: 0.9291\n",
      "Epoch 12/1000\n",
      "210/210 [==============================] - 28s 134ms/step - loss: 0.2960 - accuracy: 0.9061 - val_loss: 0.1825 - val_accuracy: 0.9488\n",
      "Epoch 13/1000\n",
      "210/210 [==============================] - 28s 133ms/step - loss: 0.3862 - accuracy: 0.8687 - val_loss: 0.3195 - val_accuracy: 0.9124\n",
      "Epoch 14/1000\n",
      "210/210 [==============================] - 28s 134ms/step - loss: 0.3590 - accuracy: 0.8737 - val_loss: 0.1675 - val_accuracy: 0.9470\n",
      "Epoch 15/1000\n",
      "210/210 [==============================] - 28s 132ms/step - loss: 0.2482 - accuracy: 0.9179 - val_loss: 0.1534 - val_accuracy: 0.9506\n",
      "Epoch 16/1000\n",
      "210/210 [==============================] - 27s 131ms/step - loss: 0.2222 - accuracy: 0.9250 - val_loss: 0.1431 - val_accuracy: 0.9589\n",
      "Epoch 17/1000\n",
      "210/210 [==============================] - 27s 131ms/step - loss: 0.2131 - accuracy: 0.9315 - val_loss: 0.1497 - val_accuracy: 0.9553\n",
      "Epoch 18/1000\n",
      "210/210 [==============================] - 29s 137ms/step - loss: 0.2150 - accuracy: 0.9305 - val_loss: 0.1210 - val_accuracy: 0.9625\n",
      "Epoch 19/1000\n",
      "210/210 [==============================] - 29s 136ms/step - loss: 0.1812 - accuracy: 0.9404 - val_loss: 0.1225 - val_accuracy: 0.9684\n",
      "Epoch 20/1000\n",
      "210/210 [==============================] - 28s 132ms/step - loss: 0.1719 - accuracy: 0.9460 - val_loss: 0.1024 - val_accuracy: 0.9708\n",
      "Epoch 21/1000\n",
      "210/210 [==============================] - 31s 147ms/step - loss: 0.1531 - accuracy: 0.9507 - val_loss: 0.1294 - val_accuracy: 0.9613\n",
      "Epoch 22/1000\n",
      "210/210 [==============================] - 33s 157ms/step - loss: 0.1710 - accuracy: 0.9474 - val_loss: 0.0805 - val_accuracy: 0.9780\n",
      "Epoch 23/1000\n",
      "210/210 [==============================] - 36s 173ms/step - loss: 0.1295 - accuracy: 0.9578 - val_loss: 0.0985 - val_accuracy: 0.9678\n",
      "\n",
      "Reached 95.00% accuracy, so stopping training!!\n"
     ]
    }
   ],
   "source": [
    "history = model.fit(x_train, y_train, epochs=1000, verbose=1, callbacks=[stop_training], class_weight=class_weight, validation_data=(x_valid,y_valid))"
   ]
  },
  {
   "cell_type": "code",
   "execution_count": 10,
   "metadata": {},
   "outputs": [
    {
     "name": "stdout",
     "output_type": "stream",
     "text": [
      "Saving model\n",
      "INFO:tensorflow:Assets written to: Model\\ADB_9_95\\assets\n"
     ]
    }
   ],
   "source": [
    "print('Saving model')\n",
    "model.save(str(model_name))"
   ]
  },
  {
   "cell_type": "code",
   "execution_count": 11,
   "metadata": {},
   "outputs": [
    {
     "name": "stdout",
     "output_type": "stream",
     "text": [
      "dict_keys(['loss', 'accuracy', 'val_loss', 'val_accuracy'])\n"
     ]
    },
    {
     "data": {
      "image/png": "[encoded data removed]",
      "text/plain": [
       "<Figure size 432x288 with 1 Axes>"
      ]
     },
     "metadata": {
      "needs_background": "light"
     },
     "output_type": "display_data"
    }
   ],
   "source": [
    "print(history.history.keys())\n",
    "from matplotlib import pyplot as plt\n",
    "plt.plot(history.history['accuracy'])\n",
    "plt.plot(history.history['val_accuracy'])\n",
    "plt.title('model accuracy')\n",
    "plt.ylabel('accuracy')\n",
    "plt.xlabel('epoch')\n",
    "plt.legend(['train', 'val_accuracy'], loc='upper left')\n",
    "plt.show()"
   ]
  },
  {
   "cell_type": "code",
   "execution_count": 12,
   "metadata": {},
   "outputs": [
    {
     "data": {
      "image/png": "[encoded data removed]",
      "text/plain": [
       "<Figure size 432x288 with 1 Axes>"
      ]
     },
     "metadata": {
      "needs_background": "light"
     },
     "output_type": "display_data"
    }
   ],
   "source": [
    "plt.plot(history.history['loss'])\n",
    "plt.plot(history.history['val_loss'])\n",
    "plt.title('model loss')\n",
    "plt.ylabel('loss')\n",
    "plt.xlabel('epoch')\n",
    "plt.legend(['train', 'val'], loc='upper left')\n",
    "plt.show()"
   ]
  },
  {
   "cell_type": "code",
   "execution_count": 7,
   "metadata": {},
   "outputs": [],
   "source": [
    "model_out = Path('Model')\n",
    "model_name = model_out / 'ADB_9_95'\n",
    "history = load_model(str(model_name))"
   ]
  },
  {
   "cell_type": "code",
   "execution_count": 63,
   "metadata": {},
   "outputs": [],
   "source": [
    "# with open('finalcsvy_valid.pkle','rb') as xyz:\n",
    "#     y_valid = pickle.load(xyz)"
   ]
  },
  {
   "cell_type": "code",
   "execution_count": 13,
   "metadata": {},
   "outputs": [],
   "source": [
    "predictions = model.predict(x_valid)\n",
    "predictions = argmax(predictions, axis=1)\n",
    "y_true = argmax(y_valid, axis=1)"
   ]
  },
  {
   "cell_type": "code",
   "execution_count": 14,
   "metadata": {},
   "outputs": [
    {
     "data": {
      "text/plain": [
       "<sklearn.metrics._plot.confusion_matrix.ConfusionMatrixDisplay at 0x1a81a6b85b0>"
      ]
     },
     "execution_count": 14,
     "metadata": {},
     "output_type": "execute_result"
    },
    {
     "data": {
      "image/png": "[encoded data removed]",
      "text/plain": [
       "<Figure size 432x288 with 2 Axes>"
      ]
     },
     "metadata": {
      "needs_background": "light"
     },
     "output_type": "display_data"
    }
   ],
   "source": [
    "cm = confusion_matrix(y_true, predictions,labels=[0,1,2,3])\n",
    "disp = ConfusionMatrixDisplay(confusion_matrix=cm,display_labels=['Address','Name','Phone','Play'])\n",
    "disp.plot()"
   ]
  },
  {
   "cell_type": "code",
   "execution_count": 75,
   "metadata": {},
   "outputs": [],
   "source": [
    "with open('CM_A_R+V+M+R.pkle','wb') as xyz:\n",
    "    pickle.dump(disp,xyz)"
   ]
  },
  {
   "cell_type": "code",
   "execution_count": 15,
   "metadata": {},
   "outputs": [
    {
     "data": {
      "text/plain": [
       "<sklearn.metrics._plot.confusion_matrix.ConfusionMatrixDisplay at 0x1a8204f93d0>"
      ]
     },
     "execution_count": 15,
     "metadata": {},
     "output_type": "execute_result"
    },
    {
     "data": {
      "image/png": "[encoded data removed]",
      "text/plain": [
       "<Figure size 432x288 with 2 Axes>"
      ]
     },
     "metadata": {
      "needs_background": "light"
     },
     "output_type": "display_data"
    }
   ],
   "source": [
    "with open('CM_A_R+V+M+R.pkle','rb') as xyz:\n",
    "    disp1 = pickle.load(xyz)\n",
    "disp1.plot()"
   ]
  },
  {
   "cell_type": "code",
   "execution_count": null,
   "metadata": {},
   "outputs": [],
   "source": [
    "# !pip install -U numpy==1.18.5 --user"
   ]
  },
  {
   "cell_type": "code",
   "execution_count": 1,
   "metadata": {},
   "outputs": [
    {
     "data": {
      "image/png": "[encoded data removed]",
      "text/plain": [
       "<Figure size 432x288 with 1 Axes>"
      ]
     },
     "metadata": {
      "needs_background": "light"
     },
     "output_type": "display_data"
    }
   ],
   "source": [
    "import pandas as pd\n",
    "import matplotlib.pyplot as plt\n",
    "\n",
    "history = pd.read_csv(\"D:/ASL_DATASET/new structure/Models/30frame_8class/logs.csv\")\n",
    "plt.plot(history['accuracy'])\n",
    "plt.plot(history['val_accuracy'])\n",
    "plt.title('model accuracy')\n",
    "plt.ylabel('accuracy')\n",
    "plt.xlabel('epoch')\n",
    "plt.legend(['train', 'val_accuracy'], loc='upper left')\n",
    "plt.show()"
   ]
  },
  {
   "cell_type": "code",
   "execution_count": 2,
   "metadata": {},
   "outputs": [
    {
     "data": {
      "image/png": "[encoded data removed]",
      "text/plain": [
       "<Figure size 432x288 with 1 Axes>"
      ]
     },
     "metadata": {
      "needs_background": "light"
     },
     "output_type": "display_data"
    }
   ],
   "source": [
    "plt.plot(history['loss'])\n",
    "plt.plot(history['val_loss'])\n",
    "plt.title('model accuracy')\n",
    "plt.ylabel('loss')\n",
    "plt.xlabel('epoch')\n",
    "plt.legend(['loss', 'val'], loc='upper left')\n",
    "plt.show()"
   ]
  },
  {
   "cell_type": "code",
   "execution_count": null,
   "metadata": {},
   "outputs": [],
   "source": []
  }
 ],
 "metadata": {
  "kernelspec": {
   "display_name": "Python 3",
   "language": "python",
   "name": "python3"
  },
  "language_info": {
   "codemirror_mode": {
    "name": "ipython",
    "version": 3
   },
   "file_extension": ".py",
   "mimetype": "text/x-python",
   "name": "python",
   "nbconvert_exporter": "python",
   "pygments_lexer": "ipython3",
   "version": "3.8.8"
  }
 },
 "nbformat": 4,
 "nbformat_minor": 2
}

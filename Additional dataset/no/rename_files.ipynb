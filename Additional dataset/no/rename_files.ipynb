{
 "cells": [
  {
   "cell_type": "code",
   "execution_count": 18,
   "metadata": {},
   "outputs": [],
   "source": [
    "import os\n",
    "from pathlib import Path\n",
    "import re"
   ]
  },
  {
   "cell_type": "code",
   "execution_count": null,
   "metadata": {},
   "outputs": [],
   "source": [
    "folder = \"D:/ASL_DATASET/new structure/original_videos\"\n",
    "for count, filename in enumerate(os.listdir(folder)):\n",
    "    print(\"BEFORE: \",filename)\n",
    "    print(\"After: \",'Y'+filename[5:-4])\n",
    "    print(count)"
   ]
  },
  {
   "cell_type": "markdown",
   "metadata": {},
   "source": [
    "Rename entire folder w.r.t file name"
   ]
  },
  {
   "cell_type": "code",
   "execution_count": 21,
   "metadata": {},
   "outputs": [
    {
     "name": "stdout",
     "output_type": "stream",
     "text": [
      "School_101.csv\n",
      "Class_50.csv\n",
      "School_102.csv\n",
      "Class_51.csv\n",
      "School_103.csv\n",
      "Class_52.csv\n",
      "School_104.csv\n",
      "Class_53.csv\n",
      "School_105.csv\n",
      "Class_54.csv\n",
      "School_106.csv\n",
      "Class_55.csv\n",
      "School_107.csv\n",
      "Class_56.csv\n",
      "School_108.csv\n",
      "Class_57.csv\n",
      "School_109.csv\n",
      "Class_58.csv\n",
      "School_110.csv\n",
      "Class_59.csv\n",
      "School_111.csv\n",
      "Class_60.csv\n",
      "School_112.csv\n",
      "Class_61.csv\n",
      "School_113.csv\n",
      "Class_62.csv\n",
      "School_114.csv\n",
      "Class_63.csv\n",
      "School_115.csv\n",
      "Class_64.csv\n",
      "School_116.csv\n",
      "Class_65.csv\n",
      "School_117.csv\n",
      "Class_66.csv\n",
      "School_118.csv\n",
      "Class_67.csv\n",
      "School_119.csv\n",
      "Class_68.csv\n",
      "School_120.csv\n",
      "Class_69.csv\n",
      "School_121.csv\n",
      "Class_70.csv\n",
      "School_122.csv\n",
      "Class_71.csv\n",
      "School_123.csv\n",
      "Class_72.csv\n",
      "School_124.csv\n",
      "Class_73.csv\n",
      "School_125.csv\n",
      "Class_74.csv\n",
      "School_126.csv\n",
      "Class_75.csv\n",
      "School_127.csv\n",
      "Class_76.csv\n",
      "School_128.csv\n",
      "Class_77.csv\n",
      "School_129.csv\n",
      "Class_78.csv\n",
      "School_130.csv\n",
      "Class_79.csv\n",
      "School_131.csv\n",
      "Class_80.csv\n",
      "School_132.csv\n",
      "Class_81.csv\n",
      "School_133.csv\n",
      "Class_82.csv\n",
      "School_134.csv\n",
      "Class_83.csv\n",
      "School_135.csv\n",
      "Class_84.csv\n",
      "School_136.csv\n",
      "Class_85.csv\n",
      "School_137.csv\n",
      "Class_86.csv\n",
      "School_138.csv\n",
      "Class_87.csv\n",
      "School_139.csv\n",
      "Class_88.csv\n",
      "School_140.csv\n",
      "Class_89.csv\n",
      "School_141.csv\n",
      "Class_90.csv\n",
      "School_142.csv\n",
      "Class_91.csv\n",
      "School_143.csv\n",
      "Class_92.csv\n",
      "School_144.csv\n",
      "Class_93.csv\n",
      "School_145.csv\n",
      "Class_94.csv\n",
      "School_146.csv\n",
      "Class_95.csv\n",
      "School_147.csv\n",
      "Class_96.csv\n",
      "School_148.csv\n",
      "Class_97.csv\n",
      "School_149.csv\n",
      "Class_98.csv\n",
      "School_150.csv\n",
      "Class_99.csv\n"
     ]
    }
   ],
   "source": [
    "folder = \"D:/ASL_DATASET/recording/csv/class_temp\"\n",
    "for count, filename in enumerate(os.listdir(folder)):\n",
    "    print(filename)\n",
    "    dst = f\"Class_{str(int(filename[7:-4])-51)}.csv\"\n",
    "    print(dst)\n",
    "    src =f\"{folder}/{filename}\"  # foldername/filename, if .py file is outside folder\n",
    "    dst =f\"{folder}/{dst}\"\n",
    "    os.rename(src, dst)"
   ]
  },
  {
   "cell_type": "markdown",
   "metadata": {},
   "source": [
    "Rename entire directory w.r.t folder name"
   ]
  },
  {
   "cell_type": "code",
   "execution_count": 69,
   "metadata": {},
   "outputs": [
    {
     "name": "stdout",
     "output_type": "stream",
     "text": [
      "['What', 'When', 'Where', 'You']\n"
     ]
    }
   ],
   "source": [
    "folder = \"D:/ASL_DATASET/new structure/original_videos/Untitled folder/video\"\n",
    "\n",
    "folder_ds=Path(folder)\n",
    "classes = list(x.name for x in folder_ds.glob('*'))\n",
    "print(classes)\n",
    "all_source_ds=[]\n",
    "z=0\n",
    "for i in range (len(classes)):\n",
    "    cur_path = folder_ds / classes[i]\n",
    "    for count, filename in enumerate(os.listdir(cur_path)):\n",
    "        dst = f\"{classes[i]}_{str(count+151)}.avi\"\n",
    "        src =f\"{folder}/{classes[i]}/{filename}\"  # foldername/filename, if .py file is outside folder\n",
    "        dst =f\"{folder}/{classes[i]}/{dst}\"\n",
    "        os.rename(src, dst)"
   ]
  },
  {
   "cell_type": "code",
   "execution_count": null,
   "metadata": {},
   "outputs": [],
   "source": [
    "\"D:\\ASL_DATASET\\new structure\\original_videos\\When\\When_1.avi.avi\""
   ]
  },
  {
   "cell_type": "code",
   "execution_count": 61,
   "metadata": {},
   "outputs": [
    {
     "name": "stdout",
     "output_type": "stream",
     "text": [
      "['What', 'When', 'Where', 'You']\n"
     ]
    }
   ],
   "source": [
    "folder = \"D:/ASL_DATASET/new structure/original_videos/Untitled folder/video\"\n",
    "source_directory = Path(folder)\n",
    "classes = list(x.name for x in source_directory.glob('*'))\n",
    "print(classes)\n",
    "all_source_ds=[]\n",
    "for category in classes:\n",
    "    cat_dir = list((source_directory/category).glob(\"*\"))\n",
    "    all_source_ds.append(cat_dir)"
   ]
  },
  {
   "cell_type": "code",
   "execution_count": null,
   "metadata": {},
   "outputs": [],
   "source": [
    "\n",
    "print(all_source_ds[1])\n"
   ]
  },
  {
   "cell_type": "code",
   "execution_count": 57,
   "metadata": {},
   "outputs": [
    {
     "name": "stdout",
     "output_type": "stream",
     "text": [
      "0   allsourceds : 0\n",
      "0   allsourceds : 0\n",
      "0   allsourceds : 150\n",
      "0   allsourceds : 150\n",
      "0   allsourceds : 150\n",
      "0   allsourceds : 150\n"
     ]
    }
   ],
   "source": [
    "import shutil\n",
    "count1 = 0\n",
    "for i in range (len(all_source_ds)):\n",
    "    cur_dir = all_source_ds[i]\n",
    "    for path in cur_dir:\n",
    "        numbers = re.findall('[0-9]+', str(path))\n",
    "        if re.findall('.csv', str(path)):\n",
    "            shutil.move(str(path), \"D:/ASL_DATASET/new structure/original_videos/Untitled folder/csv\")\n",
    "        # print(numbers,video_file)\n",
    "    print(count1,'  allsourceds :',len(cur_dir))"
   ]
  },
  {
   "cell_type": "code",
   "execution_count": 26,
   "metadata": {},
   "outputs": [
    {
     "name": "stdout",
     "output_type": "stream",
     "text": [
      "D:/ASL_DATASET/new structure/original_videos/Untitled folder\\What\n",
      "D:/ASL_DATASET/new structure/original_videos/Untitled folder\\When\n",
      "D:/ASL_DATASET/new structure/original_videos/Untitled folder\\Where\n",
      "D:/ASL_DATASET/new structure/original_videos/Untitled folder\\You\n"
     ]
    }
   ],
   "source": [
    "import os\n",
    "\n",
    "folder = \"D:/ASL_DATASET/new structure/original_videos/Untitled folder\"\n",
    "for file in os.listdir(folder):\n",
    "    d = os.path.join(folder, file)\n",
    "    if os.path.isdir(d):\n",
    "        print(d)"
   ]
  },
  {
   "cell_type": "code",
   "execution_count": 25,
   "metadata": {},
   "outputs": [
    {
     "data": {
      "text/plain": [
       "<nt.ScandirIterator at 0x1e08eeb2fd0>"
      ]
     },
     "execution_count": 25,
     "metadata": {},
     "output_type": "execute_result"
    }
   ],
   "source": [
    "os.scandir(folder)"
   ]
  },
  {
   "cell_type": "code",
   "execution_count": null,
   "metadata": {},
   "outputs": [],
   "source": []
  }
 ],
 "metadata": {
  "interpreter": {
   "hash": "296bab940284f08798c408f7ad582d9807ef55037a84edd45b6302285f3c2b9e"
  },
  "kernelspec": {
   "display_name": "Python 3.8.8 ('base')",
   "language": "python",
   "name": "python3"
  },
  "language_info": {
   "codemirror_mode": {
    "name": "ipython",
    "version": 3
   },
   "file_extension": ".py",
   "mimetype": "text/x-python",
   "name": "python",
   "nbconvert_exporter": "python",
   "pygments_lexer": "ipython3",
   "version": "3.8.8"
  },
  "orig_nbformat": 4
 },
 "nbformat": 4,
 "nbformat_minor": 2
}
